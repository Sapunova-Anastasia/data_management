{
 "cells": [
  {
   "cell_type": "markdown",
   "metadata": {},
   "source": [
    "## Валидация моделей классификации\n",
    "\n",
    "Данные"
   ]
  },
  {
   "cell_type": "code",
   "execution_count": 1,
   "metadata": {},
   "outputs": [
    {
     "data": {
      "text/html": [
       "<div>\n",
       "<style scoped>\n",
       "    .dataframe tbody tr th:only-of-type {\n",
       "        vertical-align: middle;\n",
       "    }\n",
       "\n",
       "    .dataframe tbody tr th {\n",
       "        vertical-align: top;\n",
       "    }\n",
       "\n",
       "    .dataframe thead th {\n",
       "        text-align: right;\n",
       "    }\n",
       "</style>\n",
       "<table border=\"1\" class=\"dataframe\">\n",
       "  <thead>\n",
       "    <tr style=\"text-align: right;\">\n",
       "      <th></th>\n",
       "      <th>call_diff</th>\n",
       "      <th>sms_diff</th>\n",
       "      <th>traffic_diff</th>\n",
       "      <th>customes_class</th>\n",
       "    </tr>\n",
       "  </thead>\n",
       "  <tbody>\n",
       "    <tr>\n",
       "      <th>0</th>\n",
       "      <td>-0.666421</td>\n",
       "      <td>0.444911</td>\n",
       "      <td>-0.273538</td>\n",
       "      <td>0</td>\n",
       "    </tr>\n",
       "    <tr>\n",
       "      <th>1</th>\n",
       "      <td>-0.889273</td>\n",
       "      <td>-0.537896</td>\n",
       "      <td>-1.959469</td>\n",
       "      <td>2</td>\n",
       "    </tr>\n",
       "    <tr>\n",
       "      <th>2</th>\n",
       "      <td>-0.841503</td>\n",
       "      <td>0.846665</td>\n",
       "      <td>0.727606</td>\n",
       "      <td>0</td>\n",
       "    </tr>\n",
       "    <tr>\n",
       "      <th>3</th>\n",
       "      <td>1.389749</td>\n",
       "      <td>0.390911</td>\n",
       "      <td>1.789246</td>\n",
       "      <td>1</td>\n",
       "    </tr>\n",
       "    <tr>\n",
       "      <th>4</th>\n",
       "      <td>-1.228211</td>\n",
       "      <td>-1.375899</td>\n",
       "      <td>-1.434209</td>\n",
       "      <td>2</td>\n",
       "    </tr>\n",
       "  </tbody>\n",
       "</table>\n",
       "</div>"
      ],
      "text/plain": [
       "   call_diff  sms_diff  traffic_diff  customes_class\n",
       "0  -0.666421  0.444911     -0.273538               0\n",
       "1  -0.889273 -0.537896     -1.959469               2\n",
       "2  -0.841503  0.846665      0.727606               0\n",
       "3   1.389749  0.390911      1.789246               1\n",
       "4  -1.228211 -1.375899     -1.434209               2"
      ]
     },
     "execution_count": 1,
     "metadata": {},
     "output_type": "execute_result"
    }
   ],
   "source": [
    "import pandas as pd\n",
    "import matplotlib.pyplot as plt\n",
    "from mpl_toolkits.mplot3d import Axes3D\n",
    "import numpy as np\n",
    "\n",
    "%matplotlib inline\n",
    "np.set_printoptions(precision=4)\n",
    "\n",
    "df_source = pd.read_csv(\n",
    "    'data/client_segmentation.csv', \n",
    "    dtype={'call_diff': np.float32, 'call_diff': np.float32, 'traffic_diff': np.float32, 'customes_class': np.uint16}\n",
    ")\n",
    "X = df_source[['call_diff','sms_diff','traffic_diff']].values\n",
    "y = df_source.customes_class.values\n",
    "\n",
    "df_source.head(5)"
   ]
  },
  {
   "cell_type": "markdown",
   "metadata": {},
   "source": [
    "Найдите лучший классификатор по метрике f1-score"
   ]
  },
  {
   "cell_type": "code",
   "execution_count": 2,
   "metadata": {},
   "outputs": [
    {
     "name": "stdout",
     "output_type": "stream",
     "text": [
      "DecisionTreeClassifier: 0.9090909090909091\n",
      "GaussianNB: 0.8787878787878788\n",
      "KNeighborsClassifier: 0.9393939393939394\n",
      "LogisticRegression: 0.9090909090909091\n",
      "RandomForestClassifier: 0.9393939393939394\n"
     ]
    }
   ],
   "source": [
    "from sklearn.tree  import DecisionTreeClassifier\n",
    "from sklearn.naive_bayes import GaussianNB\n",
    "from sklearn.neighbors import KNeighborsClassifier\n",
    "from sklearn.linear_model import LogisticRegression\n",
    "from sklearn.ensemble import RandomForestClassifier\n",
    "\n",
    "from sklearn.metrics import f1_score\n",
    "from sklearn.model_selection import train_test_split\n",
    "\n",
    "X_train, X_test, y_train, y_test = train_test_split(X, y, test_size=0.33, random_state=42)    \n",
    "\n",
    "# --------- ВАШ КОД ТУТ --------\n",
    "dtc = DecisionTreeClassifier().fit(X_train, y_train)\n",
    "y_pred = dtc.predict(X_test)\n",
    "print(\"DecisionTreeClassifier:\", f1_score(y_test, y_pred, average='micro'))\n",
    "\n",
    "gnb = GaussianNB().fit(X_train, y_train)\n",
    "y_pred = gnb.predict(X_test)\n",
    "print(\"GaussianNB:\", f1_score(y_test, y_pred, average='micro'))\n",
    "\n",
    "knc = KNeighborsClassifier().fit(X_train, y_train)\n",
    "y_pred = knc.predict(X_test)\n",
    "print(\"KNeighborsClassifier:\",f1_score(y_test, y_pred, average='micro'))\n",
    "\n",
    "lg = LogisticRegression(solver='lbfgs', multi_class='auto').fit(X_train, y_train)\n",
    "y_pred = lg.predict(X_test)\n",
    "print(\"LogisticRegression:\",f1_score(y_test, y_pred, average='micro'))\n",
    "\n",
    "rfc = RandomForestClassifier(n_estimators=20).fit(X_train, y_train)\n",
    "y_pred = rfc.predict(X_test)\n",
    "print(\"RandomForestClassifier:\",f1_score(y_test, y_pred, average='micro'))\n",
    "\n",
    "# ------------------------------"
   ]
  },
  {
   "cell_type": "markdown",
   "metadata": {},
   "source": [
    "## Валидация моделей линейной регрессии\n",
    "\n",
    "Пользуясь методом .score подберите наилучшее значение степени полинома"
   ]
  },
  {
   "cell_type": "code",
   "execution_count": 3,
   "metadata": {},
   "outputs": [
    {
     "data": {
      "image/png": "[encoded data removed]",
      "text/plain": [
       "<Figure size 432x288 with 1 Axes>"
      ]
     },
     "metadata": {
      "needs_background": "light"
     },
     "output_type": "display_data"
    }
   ],
   "source": [
    "import pandas as pd\n",
    "import numpy as np\n",
    "from sklearn.model_selection import train_test_split\n",
    "from sklearn.linear_model import LinearRegression\n",
    "\n",
    "import matplotlib.pyplot as plt\n",
    "%matplotlib inline\n",
    "\n",
    "df = pd.read_csv('data/content_views_toy_set.csv', encoding='utf8')\n",
    "df.plot.scatter(x='time', y='content_views')\n",
    "plt.show()\n",
    "\n",
    "X = df['time'].values\n",
    "y = df['content_views'].values\n",
    "\n",
    "X_train, X_test, y_train, y_test = train_test_split(X, y, test_size=0.33, random_state=42)\n",
    "reg = LinearRegression().fit(X_train.reshape(-1, 1), y_train)\n"
   ]
  },
  {
   "cell_type": "code",
   "execution_count": 4,
   "metadata": {},
   "outputs": [
    {
     "data": {
      "image/png": "[encoded data removed]",
      "text/plain": [
       "<Figure size 432x288 with 1 Axes>"
      ]
     },
     "metadata": {
      "needs_background": "light"
     },
     "output_type": "display_data"
    }
   ],
   "source": [
    "def generate_degrees(source_data: list, degree: int):\n",
    "    \"\"\"Функция, которая принимает на вход одномерный массив, а возвращает n-мерный\n",
    "    Для каждой степени от 1 до  degree возводим x в эту степень\n",
    "    \"\"\"\n",
    "    return np.array([\n",
    "          source_data**n for n in range(1, degree + 1)  \n",
    "    ]).T\n",
    "\n",
    "X_train_5 = generate_degrees(X_train, 5)\n",
    "X_test_5 = generate_degrees(X_test, 5)\n",
    "reg_5 = LinearRegression().fit(X_train_5, y_train)\n",
    "\n",
    "# строим график\n",
    "margin = 0.3\n",
    "support = np.arange(X.min(), X.max(), step=0.1)\n",
    "\n",
    "X_test_support = generate_degrees(support, 5)\n",
    "y_hat = reg_5.predict(X_test_support)\n",
    "\n",
    "plt.plot(support, y_hat, 'b--', alpha=0.5, label='prediction')\n",
    "plt.scatter(X_train, y_train, 40, 'g', 'o', alpha=0.8, label='data')\n",
    "plt.xlim(X.min() - margin, X.max() + margin)\n",
    "plt.ylim(y.min() - margin, y.max() + margin)\n",
    "plt.legend(loc='upper right', prop={'size': 20})\n",
    "plt.title('Fitted linear regression')\n",
    "plt.xlabel('x')\n",
    "plt.ylabel('y')\n",
    "plt.show()"
   ]
  },
  {
   "cell_type": "code",
   "execution_count": 5,
   "metadata": {},
   "outputs": [
    {
     "name": "stdout",
     "output_type": "stream",
     "text": [
      "Наилучшее значение степени полинома: 3\n"
     ]
    }
   ],
   "source": [
    "# --------- ВАШ КОД ТУТ --------\n",
    "i = 1\n",
    "\n",
    "previous_model_quality = -2\n",
    "model_quality = -1\n",
    "while previous_model_quality < model_quality: \n",
    "    previous_model_quality = model_quality\n",
    "    X_train_i = generate_degrees(X_train, i)\n",
    "    X_test_i = generate_degrees(X_test, i)\n",
    "    reg_i = LinearRegression().fit(X_train_i, y_train)\n",
    "\n",
    "    X_test_support = generate_degrees(support, i)\n",
    "    y_hat = reg_i.predict(X_test_support)\n",
    "    model_quality = reg_i.score(X_test_i, y_test)   \n",
    "    i += 1\n",
    "\n",
    "print(\"Наилучшее значение степени полинома:\",i-2)\n",
    "\n",
    "# ------------------------------"
   ]
  },
  {
   "cell_type": "code",
   "execution_count": 6,
   "metadata": {},
   "outputs": [
    {
     "data": {
      "image/png": "[encoded data removed]",
      "text/plain": [
       "<Figure size 432x288 with 1 Axes>"
      ]
     },
     "metadata": {
      "needs_background": "light"
     },
     "output_type": "display_data"
    }
   ],
   "source": [
    "X_train_i = generate_degrees(X_train, 3)\n",
    "X_test_i = generate_degrees(X_test, 3)\n",
    "reg_i = LinearRegression().fit(X_train_i, y_train)\n",
    "\n",
    "X_test_support = generate_degrees(support, 3)\n",
    "y_hat = reg_i.predict(X_test_support)\n",
    "margin = 0.3\n",
    "support = np.arange(X.min(), X.max(), step=0.1)\n",
    "\n",
    "X_test_support = generate_degrees(support, 3)\n",
    "y_hat = reg_i.predict(X_test_support)\n",
    "\n",
    "plt.plot(support, y_hat, 'b--', alpha=0.5, label='prediction')\n",
    "plt.scatter(X_train, y_train, 40, 'g', 'o', alpha=0.8, label='data')\n",
    "plt.xlim(X.min() - margin, X.max() + margin)\n",
    "plt.ylim(y.min() - margin, y.max() + margin)\n",
    "plt.legend(loc='upper right', prop={'size': 20})\n",
    "plt.title('Fitted linear regression')\n",
    "plt.xlabel('x')\n",
    "plt.ylabel('y')\n",
    "plt.show()"
   ]
  },
  {
   "cell_type": "code",
   "execution_count": null,
   "metadata": {},
   "outputs": [],
   "source": []
  }
 ],
 "metadata": {
  "kernelspec": {
   "display_name": "Python 3",
   "language": "python",
   "name": "python3"
  },
  "language_info": {
   "codemirror_mode": {
    "name": "ipython",
    "version": 3
   },
   "file_extension": ".py",
   "mimetype": "text/x-python",
   "name": "python",
   "nbconvert_exporter": "python",
   "pygments_lexer": "ipython3",
   "version": "3.7.3"
  }
 },
 "nbformat": 4,
 "nbformat_minor": 4
}
