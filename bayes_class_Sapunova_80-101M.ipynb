{
 "cells": [
  {
   "cell_type": "code",
   "execution_count": 1,
   "metadata": {},
   "outputs": [],
   "source": [
    "import pandas as pd\n",
    "\n",
    "filename = './data/SMSSpamCollection'"
   ]
  },
  {
   "cell_type": "code",
   "execution_count": 2,
   "metadata": {},
   "outputs": [
    {
     "data": {
      "text/html": [
       "<div>\n",
       "<style scoped>\n",
       "    .dataframe tbody tr th:only-of-type {\n",
       "        vertical-align: middle;\n",
       "    }\n",
       "\n",
       "    .dataframe tbody tr th {\n",
       "        vertical-align: top;\n",
       "    }\n",
       "\n",
       "    .dataframe thead th {\n",
       "        text-align: right;\n",
       "    }\n",
       "</style>\n",
       "<table border=\"1\" class=\"dataframe\">\n",
       "  <thead>\n",
       "    <tr style=\"text-align: right;\">\n",
       "      <th></th>\n",
       "      <th>class</th>\n",
       "      <th>sms_text</th>\n",
       "    </tr>\n",
       "  </thead>\n",
       "  <tbody>\n",
       "    <tr>\n",
       "      <th>0</th>\n",
       "      <td>ham</td>\n",
       "      <td>Go until jurong point, crazy.. Available only ...</td>\n",
       "    </tr>\n",
       "    <tr>\n",
       "      <th>1</th>\n",
       "      <td>ham</td>\n",
       "      <td>Ok lar... Joking wif u oni...</td>\n",
       "    </tr>\n",
       "    <tr>\n",
       "      <th>2</th>\n",
       "      <td>spam</td>\n",
       "      <td>Free entry in 2 a wkly comp to win FA Cup fina...</td>\n",
       "    </tr>\n",
       "  </tbody>\n",
       "</table>\n",
       "</div>"
      ],
      "text/plain": [
       "  class                                           sms_text\n",
       "0   ham  Go until jurong point, crazy.. Available only ...\n",
       "1   ham                      Ok lar... Joking wif u oni...\n",
       "2  spam  Free entry in 2 a wkly comp to win FA Cup fina..."
      ]
     },
     "execution_count": 2,
     "metadata": {},
     "output_type": "execute_result"
    }
   ],
   "source": [
    "df = pd.read_csv(\n",
    "    filename,\n",
    "    sep='\\t',\n",
    "    encoding='utf8',\n",
    "    header=None,\n",
    "    names=['class', 'sms_text']\n",
    ")\n",
    "\n",
    "df.head(3)"
   ]
  },
  {
   "cell_type": "code",
   "execution_count": 3,
   "metadata": {},
   "outputs": [],
   "source": [
    "from collections import defaultdict\n",
    "import string\n",
    "from math import log\n",
    "\n",
    "class NaiveBayes:\n",
    "    def __init__(self):\n",
    "        self.classes = defaultdict(lambda:0) \n",
    "        self.freq = defaultdict(lambda:0)\n",
    "\n",
    "    def fit(self, data: list, target: list):\n",
    "        \"\"\"\n",
    "\n",
    "        :param data: массив документов, каждый документ - объект типа str\n",
    "        :param target: массив меток объектов\n",
    "        :return:\n",
    "        \"\"\"\n",
    "        num_objects = len(data)\n",
    "        string_all_words = df['sms_text'].sum()\n",
    "\n",
    "        tt = str.maketrans(dict.fromkeys(string.punctuation))\n",
    "        all_words_without_punctuation = string_all_words.translate(tt)\n",
    "        \n",
    "        words = ' '.join([\n",
    "            word.lower()\n",
    "            for word in all_words_without_punctuation.split(sep=' ')\n",
    "        ])\n",
    "\n",
    "        all_words = ' '.join(set(words.split(sep=' ')))\n",
    "        list_words = all_words.split(sep = ' ')\n",
    "        \n",
    "        words_all = ' '.join(list_words)\n",
    "        \n",
    "        #classes, freq = defaultdict(lambda:0), defaultdict(lambda:0)\n",
    "\n",
    "        for label in target:\n",
    "            self.classes[label] += 1\n",
    "        \n",
    "        for word in words_all.split(sep = ' '):\n",
    "            j = 0\n",
    "            iter_item = iter(data)\n",
    "            for label in target:\n",
    "                #sms = data['sms_text'][j]\n",
    "                sms = next(iter_item)\n",
    "                if sms.find(word) != -1:\n",
    "                    self.freq[label, word] += 1\n",
    "                j += 1\n",
    "\n",
    "        for label in self.classes:  # normalize features frequencies\n",
    "            for word in words_all.split(sep = ' '):\n",
    "                self.freq[label, word] /= self.classes[label]\n",
    "        for c in self.classes:                       # normalize classes frequencies\n",
    "            self.classes[c] /= num_objects\n",
    "\n",
    "        return self.classes, self.freq\n",
    "\n",
    "    def predict(self, data: list):\n",
    "        \"\"\"\n",
    "\n",
    "        :param data: массив документов, для каждого из которых нужно предсказать метку\n",
    "        :return:\n",
    "        \"\"\"\n",
    "        class_data = [0 for x in range(len(data))]\n",
    "        i = 0\n",
    "        \n",
    "        for string in data:\n",
    "            max_prob = 0\n",
    "            max_cl = 0\n",
    "            \n",
    "            for cl in self.classes:\n",
    "                p_current_class = log(self.classes[cl])\n",
    "                iter_item = iter(self.classes)\n",
    "                spam = next(iter_item)\n",
    "                not_spam = next(iter_item)\n",
    "                for word in string.split(sep = ' '):\n",
    "                    #word = w.lower()\n",
    "                    p_current_class = p_current_class+log(max(self.freq[cl, word],10**(-7)))\n",
    "                if ((max_prob == 0) or (p_current_class > max_prob)):\n",
    "                    max_prob = p_current_class\n",
    "                    max_cl = cl\n",
    "            class_data[i] = max_cl\n",
    "            i += 1\n",
    "        return class_data"
   ]
  },
  {
   "cell_type": "code",
   "execution_count": 4,
   "metadata": {},
   "outputs": [],
   "source": [
    "import numpy as np\n",
    "from sklearn.model_selection import train_test_split\n",
    "class_trn, class_tst, sms_trn, sms_tst = train_test_split(df['class'], df['sms_text'], test_size=0.2)"
   ]
  },
  {
   "cell_type": "code",
   "execution_count": 5,
   "metadata": {},
   "outputs": [],
   "source": [
    "sms_classifier = NaiveBayes()"
   ]
  },
  {
   "cell_type": "code",
   "execution_count": 6,
   "metadata": {},
   "outputs": [],
   "source": [
    "prob_class,prob_word = sms_classifier.fit(sms_trn, class_trn)"
   ]
  },
  {
   "cell_type": "code",
   "execution_count": 7,
   "metadata": {},
   "outputs": [],
   "source": [
    "class_test = sms_classifier.predict(sms_tst)"
   ]
  },
  {
   "cell_type": "code",
   "execution_count": 8,
   "metadata": {},
   "outputs": [
    {
     "name": "stdout",
     "output_type": "stream",
     "text": [
      "Точность предсказания: 0.93812\n"
     ]
    }
   ],
   "source": [
    "# Проверка: процент сообщений, для которых было правильно определено, являются ли они спамом \n",
    "s = 0\n",
    "iter_item = iter(class_tst)\n",
    "for cl in class_test:\n",
    "    cl_tst = next(iter_item)\n",
    "    if (cl == cl_tst):\n",
    "        s += 1\n",
    "        \n",
    "print(f'Точность предсказания: {s/len(class_test):.5f}')"
   ]
  },
  {
   "cell_type": "code",
   "execution_count": null,
   "metadata": {},
   "outputs": [],
   "source": []
  }
 ],
 "metadata": {
  "kernelspec": {
   "display_name": "Python 3",
   "language": "python",
   "name": "python3"
  },
  "language_info": {
   "codemirror_mode": {
    "name": "ipython",
    "version": 3
   },
   "file_extension": ".py",
   "mimetype": "text/x-python",
   "name": "python",
   "nbconvert_exporter": "python",
   "pygments_lexer": "ipython3",
   "version": "3.7.3"
  }
 },
 "nbformat": 4,
 "nbformat_minor": 2
}
